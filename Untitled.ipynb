{
 "cells": [
  {
   "cell_type": "code",
   "execution_count": 8,
   "metadata": {
    "collapsed": false
   },
   "outputs": [
    {
     "name": "stdout",
     "output_type": "stream",
     "text": [
      "100%  ||#############################################################->\n"
     ]
    }
   ],
   "source": [
    "from __future__ import division\n",
    "from time import time\n",
    "import time as tm\n",
    "import sys\n",
    "j = '#'\n",
    "if __name__ == '__main__':\n",
    "    for i in range(1,61):\n",
    "        j += '#'\n",
    "        sys.stdout.write(str(int((i/60)*100))+'%  ||'+j+'->'+\"\\r\")\n",
    "        sys.stdout.flush()\n",
    "        tm.sleep(0.005)\n",
    "print\n",
    "\n",
    "time0 = time()"
   ]
  },
  {
   "cell_type": "code",
   "execution_count": null,
   "metadata": {
    "collapsed": true
   },
   "outputs": [],
   "source": []
  }
 ],
 "metadata": {
  "kernelspec": {
   "display_name": "Python 2",
   "language": "python",
   "name": "python2"
  },
  "language_info": {
   "codemirror_mode": {
    "name": "ipython",
    "version": 2
   },
   "file_extension": ".py",
   "mimetype": "text/x-python",
   "name": "python",
   "nbconvert_exporter": "python",
   "pygments_lexer": "ipython2",
   "version": "2.7.13"
  }
 },
 "nbformat": 4,
 "nbformat_minor": 2
}
