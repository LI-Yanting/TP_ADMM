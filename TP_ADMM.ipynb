{
 "cells": [
  {
   "cell_type": "markdown",
   "metadata": {},
   "source": [
    "# SD211  TP3 - Restauration d'image à l'aide de l'ADMM"
   ]
  },
  {
   "cell_type": "markdown",
   "metadata": {},
   "source": [
    "### Yanting LI"
   ]
  },
  {
   "cell_type": "markdown",
   "metadata": {},
   "source": [
    "## Introduction\n",
    "\n",
    "Il s'agit d'un problème de restauration d'image dans le contexte de minimisation à l'aide de l'algorithm ADMM.<br>\n",
    "Quelques explications:<br>\n",
    " - La matrice ${\\bf X} \\in {\\cal R}^{K \\times L}$ est l'image 2D original, où K = L = 64. On notera P = K × L le nombre total de pixels dans l'image;<br>\n",
    " - ${\\bf Y} \\in {\\cal R}^{K \\times L}$ représente l'observation en 2D qui est généré par ${\\bf Y} = {\\cal H} * {\\bf X}$, où ${\\cal H} \\in {\\cal R}^{M \\times N}$ est la réponse spatiale du filtre de flou de bougé.<br>\n",
    " \n",
    "Pour exprimer le produit de concolution, on vectorise l'image original et l'observation comme ci dessous:\n",
    "$${\\bf y} = {\\bf Hx}$$\n",
    " - ${\\bf H} \\in {\\Bbb R}^{P \\times P}$ est la matrice de convolution traduisant l'opération de convolution par ${\\cal H}$ après vectorisation de l'image.\n"
   ]
  },
  {
   "cell_type": "markdown",
   "metadata": {},
   "source": [
    "## 1 Altération d'un image"
   ]
  },
  {
   "cell_type": "code",
   "execution_count": 35,
   "metadata": {
    "collapsed": true
   },
   "outputs": [],
   "source": [
    "import pickle\n",
    "from PIL import Image\n",
    "import numpy as np\n",
    "import scipy\n",
    "import scipy.sparse.linalg as lg\n",
    "import matplotlib.pyplot as plt\n",
    "from time import time"
   ]
  },
  {
   "cell_type": "code",
   "execution_count": 36,
   "metadata": {
    "collapsed": false
   },
   "outputs": [
    {
     "name": "stdout",
     "output_type": "stream",
     "text": [
      "{u'H': <4096x4096 sparse matrix of type '<type 'numpy.float64'>'\n",
      "\twith 19722 stored elements in Compressed Sparse Row format>, u'observations': array([[ 0.56867192,  0.58446286,  0.57535565, ...,  0.55947554,\n",
      "         0.37661705,  0.19865458],\n",
      "       [ 0.59675915,  0.76867192,  0.73708908, ...,  0.7669988 ,\n",
      "         0.55947554,  0.37661705],\n",
      "       [ 0.57205565,  0.79675915,  0.94301477, ...,  0.97633389,\n",
      "         0.7669988 ,  0.55947554],\n",
      "       ..., \n",
      "       [ 0.54943326,  0.74782435,  0.99921011, ...,  0.77489203,\n",
      "         0.78214856,  0.58284949],\n",
      "       [ 0.4       ,  0.54943326,  0.74782435, ...,  0.76602625,\n",
      "         0.77489203,  0.59992078],\n",
      "       [ 0.17537371,  0.4       ,  0.54943326, ...,  0.56245907,\n",
      "         0.56602625,  0.59380954]]), u'T': <8064x4096 sparse matrix of type '<type 'numpy.float64'>'\n",
      "\twith 16128 stored elements in Compressed Sparse Row format>, u'original': array([[ 1.,  1.,  1., ...,  1.,  1.,  1.],\n",
      "       [ 1.,  1.,  1., ...,  1.,  1.,  1.],\n",
      "       [ 1.,  1.,  1., ...,  1.,  1.,  1.],\n",
      "       ..., \n",
      "       [ 1.,  1.,  1., ...,  1.,  1.,  1.],\n",
      "       [ 1.,  1.,  1., ...,  1.,  1.,  1.],\n",
      "       [ 1.,  1.,  1., ...,  1.,  1.,  1.]], dtype=float32)}\n"
     ]
    },
    {
     "data": {
      "image/png": "[encoded data removed]",
      "text/plain": [
       "<matplotlib.figure.Figure at 0x117bb2690>"
      ]
     },
     "metadata": {},
     "output_type": "display_data"
    },
    {
     "data": {
      "image/png": "[encoded data removed]",
      "text/plain": [
       "<matplotlib.figure.Figure at 0x12a6f2dd0>"
      ]
     },
     "metadata": {},
     "output_type": "display_data"
    }
   ],
   "source": [
    "# Open the data stored in a .pk file\n",
    "data = pickle.load(open('dataforpython2.pk', 'rb'))\n",
    "print data\n",
    "\n",
    "H = data.get('H').toarray()\n",
    "# print \"H: \",H\n",
    "T = data.get('T')\n",
    "# print T\n",
    "observations = data.get('observations')\n",
    "original = data.get('original')\n",
    "\n",
    "plt.imshow(original, cmap='gray')\n",
    "plt.show()\n",
    "plt.imshow(observations, cmap='gray')\n",
    "plt.show()"
   ]
  },
  {
   "cell_type": "markdown",
   "metadata": {},
   "source": [
    "## 2 Restauration d'image\n",
    "Problème:\n",
    "$$\\min_{x}  \\frac{1}{2}||{\\bf y} -{\\bf Hx}||^{2}_{2} + \\beta ||{\\bf Tx}||_{1} + {\\bf \\iota}_{[0,1]^{P}}({\\bf x})$$\n",
    "\n",
    "où \n",
    "$$||{\\bf Tx}||_{1} = \\sum_{i,j} (|{\\bf X}[i+1,j] - {\\bf X}[i,j]| + |{\\bf X}[i,j+1] - {\\bf X}[i,j]|)$$\n",
    "\n",
    "\n",
    "La matrice ${\\bf T} \\in {\\Bbb R}^{(2P-K-L)\\times P}$ représente les décalages horizontaux et verticaux. "
   ]
  },
  {
   "cell_type": "markdown",
   "metadata": {},
   "source": [
    "### Préparation 1\n",
    "Sachant que \n",
    "${\\bf z}_{1} = {\\bf x}$, ${\\bf z}_{2} = {\\bf Tx}$ et ${\\bf z} = [{\\bf z}_{1}^{T}, {\\bf z}_{2}^{T}]^{T}$,  pour transformer l'problème ci-dessus à le problème d'optimisation\n",
    "$$\\min_{x} f({\\bf x}) + g({\\bf z})$$\n",
    "$$s.t.  {\\bf Ax} = {\\bf z}$$\n",
    "\n",
    "On a \n",
    "\n",
    "$$f({\\bf x}) = \\frac{1}{2} ||{\\bf y}-{\\bf Hx}||^{2}_{2}$$\n",
    "\n",
    "$$g({\\bf z}) = \n",
    "    \\begin{bmatrix} \\iota_{[0,1]^{P}} & 0 \\\\ 0 & \\beta {\\bf I}_{(2P−K−L)} \\\\ \\end{bmatrix}\n",
    "  {\\bf z}\n",
    "$$\n",
    "où $\\iota_{[0,1]^{P}} \\in {\\cal R}^{P \\times P}$\n",
    "$${\\bf z} = {\\bf Ax}  $$\n",
    "$${\\bf A} =\n",
    "\\begin{pmatrix} {\\bf I}_{P} \\\\ {\\bf T} \\\\ \\end{pmatrix}\n",
    "$$"
   ]
  },
  {
   "cell_type": "markdown",
   "metadata": {},
   "source": [
    "### Préparation 2  ????\n",
    "Le problème (3) s'écrit:<br>\n",
    "$$\\min_{{\\bf x}, {\\bf z_{2}}} \n",
    "  \\frac{1}{2}||{\\bf y} - {\\bf Hx}||^{2}_{2} + \\beta ||{\\bf z_{2}}||_{1}\n",
    "  $$\n",
    " \n",
    "$$s.t. {\\bf Tx} = {\\bf z_{2}}$$\n",
    "\n",
    "Le Lagrangien augmenté s'écrit:<br>\n",
    "$$ {\\cal L}_{\\rho}({\\bf x}^{k},{\\bf z}_{2}^{k};{\\bf \\gamma}^{k}) = \n",
    "    \\frac{1}{2}||{\\bf y} - {\\bf Hx}||^{2}_{2} + \\beta ||{\\bf z_{2}}||_{1}\n",
    "    + <{\\bf \\gamma}^{k}, {\\bf Tx} - {\\bf z}_{2}> + \\frac{\\rho}{2}||{\\bf Tx} - {\\bf z}_{2}||^{2}_{2}\n",
    "$$"
   ]
  },
  {
   "cell_type": "markdown",
   "metadata": {
    "collapsed": true
   },
   "source": [
    "### Préparation 3\n",
    "Algorithme ADMM:<br>\n",
    "$${\\bf x}^{k+1} = \\arg\\min_{\\bf x} {\\cal L}_{\\rho}({\\bf x},{\\bf z}^{k} , \\gamma^{k})$$\n",
    "\n",
    "$${\\bf z}^{k+1} = [{\\bf z}^{k+1}_{1}, {\\bf z}^{k+1}_{2}]^{T}$$\n",
    "$$= \\arg\\min_{\\bf z} {\\cal L}_{\\rho}({\\bf x}^{k+1},{\\bf z} , \\gamma^{k})$$\n",
    "\n",
    "$${\\bf \\gamma}^{k+1} = \\gamma^{k} + \\rho({\\bf Ax}^{k+1} - {\\bf z}^{k+1})$$\n",
    "\n",
    "L'étape de minimisation de ${\\cal L}_{\\rho}$ selon la variable ${\\bf x}$:<br>\n",
    "$$x^{k+1} = \\arg\\min_{\\bf x}  \n",
    "    f(x) + g(z^{k}) + <\\gamma^{k}, Ax-z^{k}> + \\frac{\\rho}{2}||Ax-z^{k}||^{2}\n",
    "$$\n",
    "\n",
    "$$ = \\arg\\min_{\\bf x} \\frac{1}{2}||Hx-y||^{2} + <\\gamma^{k}, Ax> + \\frac{\\rho}{2}||Ax-z^{k}||^{2}$$\n",
    "\n",
    "$$0 = H^{T}(Hx-y) + A^{T}\\gamma^{k} + \\rho A^{T}(Ax-z^{k})$$\n",
    "\n",
    "$$\\implies x^{k+1} = (H^{T}H + \\rho A^{T}A)^{-1} (H^{T}y + \\rho A^{T}z^{k} - A^{T}\\gamma^{k})$$"
   ]
  },
  {
   "cell_type": "markdown",
   "metadata": {},
   "source": [
    "### Préparation 4\n",
    "Pour $z_{1}$:<br>\n",
    "\n",
    "$$z^{k+1}_{1} = \\arg\\min_{z_{1}} \n",
    "    f(x^{k+1}) + g(z_{1}) + <\\gamma_{1}^{k}, I_{P}x^{k+1} - z_{1}> + \\frac{\\rho}{2}||I_{P}x^{k+1} - z_{1}||^{2}\n",
    "    $$\n",
    "$$ = \\arg\\min_{z_{1}}\\iota_{[0,1]^{P}}(z_{1}) - <\\gamma_{1}^{k}, z_{1}> + \\frac{\\rho}{2}||I_{P}x^{k+1} - z_{1}||^{2}$$\n",
    "\n",
    "$$ = \\arg\\min_{z_{1}} \\frac{\\rho}{2} ||z_{1} - x^{k+1}||^{2} - \\gamma_{1}^{kT}z_{1} + \\iota_{[0,1]^{P}}(z_{1})$$\n",
    "\n",
    "$$ = \\arg\\min_{z_{1}} \\frac{\\rho}{2} ||z_{1} - (x^{k+1} + \\frac{\\gamma_{1}^{k}}{\\rho})||^{2} + \\iota_{[0,1]^{P}}(z_{1})$$\n",
    "\n",
    "$$ = prox_{\\frac{1}{\\rho} g} (x^{k+1} + \\frac{\\gamma_{1}^{k}}{\\rho})$$\n",
    "\n",
    "$$ = proj_{\\iota_{[0,1]^{P}}} (x^{k+1} + \\frac{\\gamma_{1}^{k}}{\\rho})$$\n",
    "\n",
    "$$ z^{k+1}_{1} = \n",
    "    \\begin{cases}\n",
    "    0,  & \\text{if $x^{k+1} + \\frac{\\gamma_{1}^{k}}{\\rho} \\leq 0$} \\\\\n",
    "    x^{k+1} + \\frac{\\gamma_{1}^{k}}{\\rho}, & \\text{if $0 < x^{k+1} + \\frac{\\gamma_{1}^{k}}{\\rho} < 1$} \\\\\n",
    "    1,  & \\text{if $x^{k+1} + \\frac{\\gamma_{1}^{k}}{\\rho} \\geq 1$}\n",
    "\\end{cases}$$\n",
    "\n",
    "Pour $z_{2}$:<br>\n",
    "$$z_{2}^{k+1} = \\arg\\min_{z_{2}} \\beta ||z_{2}||_{1}\n",
    "    + <\\gamma_{2}^{k}, z_{2}> + \\frac{\\rho}{2}||Tx^{k+1} - z_{2}||^{2}_{2}$$\n",
    "   \n",
    "$$ = prox_{\\frac{1}{\\rho} g} (Tx^{k+1} + \\frac{\\gamma_{2}^{k}}{\\rho}) $$\n",
    "$$= S(Tx^{k+1} + \\frac{\\gamma_{2}^{k}}{\\rho})$$\n",
    "\n",
    "$$ z^{k+1}_{2} = \n",
    "    \\begin{cases}\n",
    "    Tx^{k+1}_{i} + \\frac{\\gamma_{2 i}^{k}}{\\rho} - \\beta,  & \\text{if $Tx^{k+1}_{i} + \\frac{\\gamma_{2 i}^{k}}{\\rho}> \\beta$} \\\\\n",
    "    0, & \\text{if $Tx^{k+1}_{i} + \\frac{\\gamma_{2 i}^{k}}{\\rho} \\in [-\\beta, \\beta]$} \\\\\n",
    "    Tx^{k+1}_{i} + \\frac{\\gamma_{2 i}^{k}}{\\rho} + \\beta,  & \\text{if $Tx^{k+1}_{i} + \\frac{\\gamma_{2 i}^{k}}{\\rho} < -\\beta$}\n",
    "\\end{cases}$$"
   ]
  },
  {
   "cell_type": "markdown",
   "metadata": {},
   "source": [
    "### Préparation 5\n",
    "$$\\gamma_{1}^{k+1} = \\gamma_{1}^{k} + \\rho (x^{k+1} - z_{1}^{k+1})$$\n",
    "\n",
    "$$\\gamma_{2}^{k+1} = \\gamma_{2}^{k} + \\rho (Tx^{k+1} - z_{2}^{k+1})$$\n"
   ]
  },
  {
   "cell_type": "markdown",
   "metadata": {},
   "source": [
    "## 3 Implémentation de l'ADMM pour résoudre le problème de restauration d'image\n",
    "Paramètres de l'ADMM:<br>\n",
    " - $\\rho = 0.05$\n",
    " - $\\beta = 0.01$\n",
    " - $k_{max} = 100$<br>\n",
    " \n",
    "### Manipulation 2"
   ]
  },
  {
   "cell_type": "code",
   "execution_count": 38,
   "metadata": {
    "collapsed": false
   },
   "outputs": [],
   "source": [
    "# Prepare data:\n",
    "rho = 0.05\n",
    "beta = 0.01\n",
    "k_max = 100\n",
    "# Get the size of the image\n",
    "K,L = observations.shape\n",
    "# Observation, Original, T, A:\n",
    "y = np.ravel(observations)\n",
    "x_orig = np.ravel(original)\n",
    "I = np.eye(x_orig.shape[0], dtype=int)\n",
    "T = data.get('T').toarray()\n",
    "A = np.vstack((I, T))"
   ]
  },
  {
   "cell_type": "code",
   "execution_count": 15,
   "metadata": {
    "collapsed": false
   },
   "outputs": [
    {
     "name": "stdout",
     "output_type": "stream",
     "text": [
      "La matrice est definie positive:  True\n"
     ]
    }
   ],
   "source": [
    "# # definie positive?\n",
    "# C = np.linalg.eigvals(H.T.dot(H) + rho*A.T.dot(A))\n",
    "# print \"La matrice est definie positive: \",np.all(C>0)"
   ]
  },
  {
   "cell_type": "code",
   "execution_count": 41,
   "metadata": {
    "collapsed": false
   },
   "outputs": [],
   "source": [
    "# ADMM:\n",
    "def ADMM(x0,y,rho=0.05,beta=0.01,k_max=100):\n",
    "    '''x(4096,)   z1(4096,)   z2(8064,)   z(12160,)'''\n",
    "    x = []\n",
    "    z = []\n",
    "    gamma = []\n",
    "    EQMs = []\n",
    "    z1 = x0\n",
    "    z2 = T.dot(x0)\n",
    "    gamma1 = np.ones(z1.shape[0])\n",
    "    gamma2 = np.ones(z2.shape[0])\n",
    "    gamma_k = np.hstack((gamma1,gamma2))\n",
    "    for i in range(k_max):\n",
    "        print i\n",
    "        z_k = np.hstack((z1,z2))\n",
    "        x_k = lg.cg((H.T.dot(H) + rho*A.T.dot(A)), (H.T.dot(y)+rho*A.T.dot(z_k)-A.T.dot(gamma_k)))[0]\n",
    "        EQM = np.mean(x_k - x_orig)\n",
    "#         EQM = np.mean(np.sum((x-x_orig)**2))\n",
    "        z1 = proj(x_k + gamma1/rho)\n",
    "        z2 = Soft(T.dot(x_k) + gamma2/rho, beta)\n",
    "        z_k = np.hstack((z1,z2))\n",
    "        gamma1 = gamma1 + rho*(x_k - z1)\n",
    "        gamma2 = gamma2 + rho*(T.dot(x_k) - z2)\n",
    "        gamma_k = np.hstack((gamma1,gamma2))\n",
    "        x.append(x_k)\n",
    "        z.append(z_k)\n",
    "        gamma.append(gamma_k)\n",
    "        EQMs.append(EQM)\n",
    "    return x,z,gamma,EQMs\n",
    "        \n",
    "def proj(x):\n",
    "    res = np.piecewise(x, [x<0,x>1], [lambda x:0,lambda x:1,lambda x:x])\n",
    "    return res\n",
    "    \n",
    "def Soft(x,beta):\n",
    "    res = np.piecewise(x, [x>beta,x<-beta], [lambda x:x-beta,lambda x:x+beta,lambda x:0])\n",
    "    return res"
   ]
  },
  {
   "cell_type": "code",
   "execution_count": 42,
   "metadata": {
    "collapsed": false
   },
   "outputs": [
    {
     "name": "stdout",
     "output_type": "stream",
     "text": [
      "0\n",
      "1\n",
      "2\n",
      "3\n",
      "4\n",
      "5\n",
      "6\n",
      "7\n",
      "8\n",
      "9\n",
      "10\n",
      "11\n",
      "12\n",
      "13\n",
      "14\n",
      "15\n",
      "16\n",
      "17\n",
      "18\n",
      "19\n",
      "20\n",
      "21\n",
      "22\n",
      "23\n",
      "24\n",
      "25\n",
      "26\n",
      "27\n",
      "28\n",
      "29\n",
      "30\n",
      "31\n",
      "32\n",
      "33\n",
      "34\n",
      "35\n",
      "36\n",
      "37\n",
      "38\n",
      "39\n",
      "40\n",
      "41\n",
      "42\n",
      "43\n",
      "44\n",
      "45\n",
      "46\n",
      "47\n",
      "48\n",
      "49\n",
      "50\n",
      "51\n",
      "52\n",
      "53\n",
      "54\n",
      "55\n",
      "56\n",
      "57\n",
      "58\n",
      "59\n",
      "60\n",
      "61\n",
      "62\n",
      "63\n",
      "64\n",
      "65\n",
      "66\n",
      "67\n",
      "68\n",
      "69\n",
      "70\n",
      "71\n",
      "72\n",
      "73\n",
      "74\n",
      "75\n",
      "76\n",
      "77\n",
      "78\n",
      "79\n",
      "80\n",
      "81\n",
      "82\n",
      "83\n",
      "84\n",
      "85\n",
      "86\n",
      "87\n",
      "88\n",
      "89\n",
      "90\n",
      "91\n",
      "92\n",
      "93\n",
      "94\n",
      "95\n",
      "96\n",
      "97\n",
      "98\n",
      "99\n",
      "done in 396.410s\n"
     ]
    }
   ],
   "source": [
    "t0 = time()\n",
    "x0 = np.zeros(x_orig.shape[0])\n",
    "x_k, z_k, gamma_k, EQMs = ADMM(x0,y,0.05,0.01,100)\n",
    "run_time = (time() - t0)\n",
    "print \"done in %0.3fs\" % run_time"
   ]
  },
  {
   "cell_type": "code",
   "execution_count": 43,
   "metadata": {
    "collapsed": false
   },
   "outputs": [
    {
     "data": {
      "image/png": "[encoded data removed]",
      "text/plain": [
       "<matplotlib.figure.Figure at 0x12a91be90>"
      ]
     },
     "metadata": {},
     "output_type": "display_data"
    }
   ],
   "source": [
    "plt.figure()\n",
    "plt.plot(x_k)\n",
    "plt.show()"
   ]
  },
  {
   "cell_type": "code",
   "execution_count": 46,
   "metadata": {
    "collapsed": false
   },
   "outputs": [
    {
     "data": {
      "image/png": "[encoded data removed]",
      "text/plain": [
       "<matplotlib.figure.Figure at 0x12a92ab50>"
      ]
     },
     "metadata": {},
     "output_type": "display_data"
    }
   ],
   "source": [
    "plt.figure()\n",
    "plt.plot(EQMs)\n",
    "plt.show()"
   ]
  },
  {
   "cell_type": "code",
   "execution_count": 59,
   "metadata": {
    "collapsed": false
   },
   "outputs": [
    {
     "data": {
      "image/png": "[encoded data removed]",
      "text/plain": [
       "<matplotlib.figure.Figure at 0x122570390>"
      ]
     },
     "metadata": {},
     "output_type": "display_data"
    }
   ],
   "source": [
    "x = x_k[89].reshape((K,L))\n",
    "plt.imshow(x, cmap='gray')\n",
    "plt.show()"
   ]
  },
  {
   "cell_type": "markdown",
   "metadata": {},
   "source": [
    "### Manipulation 4"
   ]
  },
  {
   "cell_type": "code",
   "execution_count": 45,
   "metadata": {
    "collapsed": false
   },
   "outputs": [
    {
     "name": "stdout",
     "output_type": "stream",
     "text": [
      "[ 0.    0.02  0.04  0.06  0.08  0.1 ]\n"
     ]
    }
   ],
   "source": [
    "rhos = np.linspace(0,0.1,6)\n",
    "print rhos\n",
    "for rho in rhos:\n",
    "    "
   ]
  },
  {
   "cell_type": "code",
   "execution_count": null,
   "metadata": {
    "collapsed": true
   },
   "outputs": [],
   "source": []
  },
  {
   "cell_type": "code",
   "execution_count": null,
   "metadata": {
    "collapsed": true
   },
   "outputs": [],
   "source": []
  },
  {
   "cell_type": "code",
   "execution_count": null,
   "metadata": {
    "collapsed": true
   },
   "outputs": [],
   "source": []
  },
  {
   "cell_type": "code",
   "execution_count": null,
   "metadata": {
    "collapsed": true
   },
   "outputs": [],
   "source": []
  },
  {
   "cell_type": "code",
   "execution_count": 61,
   "metadata": {
    "collapsed": false
   },
   "outputs": [
    {
     "name": "stdout",
     "output_type": "stream",
     "text": [
      "done in 3.814s\n"
     ]
    }
   ],
   "source": [
    "t0 = time()\n",
    "x_k1 = lg.cg((H.T.dot(H) + rho*A.T.dot(A)), (H.T.dot(y)+rho*A.T.dot(z)-A.T.dot(gamma)))\n",
    "run_time = (time() - t0)\n",
    "print \"done in %0.3fs\" % run_time"
   ]
  },
  {
   "cell_type": "code",
   "execution_count": 62,
   "metadata": {
    "collapsed": false
   },
   "outputs": [
    {
     "name": "stdout",
     "output_type": "stream",
     "text": [
      "done in 4.310s\n"
     ]
    }
   ],
   "source": [
    "t0 = time()\n",
    "x_k2 = np.linalg.solve((H.T.dot(H) + rho*A.T.dot(A)), (H.T.dot(y)+rho*A.T.dot(z)-A.T.dot(gamma)))\n",
    "run_time = (time() - t0)\n",
    "print \"done in %0.3fs\" % run_time"
   ]
  },
  {
   "cell_type": "code",
   "execution_count": 100,
   "metadata": {
    "collapsed": false
   },
   "outputs": [
    {
     "name": "stdout",
     "output_type": "stream",
     "text": [
      "[-5. -4. -3. -2. -1.  0.  1.  2.  3.  4.  5.]\n",
      "[-2. -2. -2. -2. -1.  0.  1.  2.  2.  2.  2.]\n"
     ]
    }
   ],
   "source": [
    "x = np.linspace(-5,5, 11)\n",
    "print x\n",
    "# # def proj(x):\n",
    "# mask = np.ones(x.shape[0])*(x>=-2)\n",
    "# print mask\n",
    "# print x<-2\n",
    "res = np.piecewise(x, [x<-2,x>2], [lambda x:-2,lambda x:2,lambda x:x])\n",
    "print res"
   ]
  },
  {
   "cell_type": "code",
   "execution_count": 4,
   "metadata": {
    "collapsed": false
   },
   "outputs": [
    {
     "name": "stdout",
     "output_type": "stream",
     "text": [
      "(4096, 4096)\n",
      "(4096,)\n",
      "(4096,)\n",
      "(4096,)\n"
     ]
    },
    {
     "ename": "NameError",
     "evalue": "name 'lg' is not defined",
     "output_type": "error",
     "traceback": [
      "\u001b[0;31m---------------------------------------------------------------------------\u001b[0m",
      "\u001b[0;31mNameError\u001b[0m                                 Traceback (most recent call last)",
      "\u001b[0;32m<ipython-input-4-f628d3ea59ef>\u001b[0m in \u001b[0;36m<module>\u001b[0;34m()\u001b[0m\n\u001b[1;32m      5\u001b[0m \u001b[0;32mprint\u001b[0m \u001b[0mA\u001b[0m\u001b[0;34m.\u001b[0m\u001b[0mT\u001b[0m\u001b[0;34m.\u001b[0m\u001b[0mdot\u001b[0m\u001b[0;34m(\u001b[0m\u001b[0mz\u001b[0m\u001b[0;34m)\u001b[0m\u001b[0;34m.\u001b[0m\u001b[0mshape\u001b[0m\u001b[0;34m\u001b[0m\u001b[0m\n\u001b[1;32m      6\u001b[0m \u001b[0;32mprint\u001b[0m \u001b[0mA\u001b[0m\u001b[0;34m.\u001b[0m\u001b[0mT\u001b[0m\u001b[0;34m.\u001b[0m\u001b[0mdot\u001b[0m\u001b[0;34m(\u001b[0m\u001b[0mgamma_k\u001b[0m\u001b[0;34m)\u001b[0m\u001b[0;34m.\u001b[0m\u001b[0mshape\u001b[0m\u001b[0;34m\u001b[0m\u001b[0m\n\u001b[0;32m----> 7\u001b[0;31m \u001b[0mx_k1\u001b[0m \u001b[0;34m=\u001b[0m \u001b[0mlg\u001b[0m\u001b[0;34m.\u001b[0m\u001b[0mcg\u001b[0m\u001b[0;34m(\u001b[0m\u001b[0;34m(\u001b[0m\u001b[0mH\u001b[0m\u001b[0;34m.\u001b[0m\u001b[0mT\u001b[0m\u001b[0;34m.\u001b[0m\u001b[0mdot\u001b[0m\u001b[0;34m(\u001b[0m\u001b[0mH\u001b[0m\u001b[0;34m)\u001b[0m \u001b[0;34m+\u001b[0m \u001b[0mrho\u001b[0m\u001b[0;34m*\u001b[0m\u001b[0mA\u001b[0m\u001b[0;34m.\u001b[0m\u001b[0mT\u001b[0m\u001b[0;34m.\u001b[0m\u001b[0mdot\u001b[0m\u001b[0;34m(\u001b[0m\u001b[0mA\u001b[0m\u001b[0;34m)\u001b[0m\u001b[0;34m)\u001b[0m\u001b[0;34m,\u001b[0m \u001b[0;34m(\u001b[0m\u001b[0mH\u001b[0m\u001b[0;34m.\u001b[0m\u001b[0mT\u001b[0m\u001b[0;34m.\u001b[0m\u001b[0mdot\u001b[0m\u001b[0;34m(\u001b[0m\u001b[0my\u001b[0m\u001b[0;34m)\u001b[0m\u001b[0;34m+\u001b[0m\u001b[0mrho\u001b[0m\u001b[0;34m*\u001b[0m\u001b[0mA\u001b[0m\u001b[0;34m.\u001b[0m\u001b[0mT\u001b[0m\u001b[0;34m.\u001b[0m\u001b[0mdot\u001b[0m\u001b[0;34m(\u001b[0m\u001b[0mz\u001b[0m\u001b[0;34m)\u001b[0m\u001b[0;34m-\u001b[0m\u001b[0mA\u001b[0m\u001b[0;34m.\u001b[0m\u001b[0mT\u001b[0m\u001b[0;34m.\u001b[0m\u001b[0mdot\u001b[0m\u001b[0;34m(\u001b[0m\u001b[0mgamma\u001b[0m\u001b[0;34m)\u001b[0m\u001b[0;34m)\u001b[0m\u001b[0;34m)\u001b[0m\u001b[0;34m\u001b[0m\u001b[0m\n\u001b[0m\u001b[1;32m      8\u001b[0m \u001b[0;32mprint\u001b[0m \u001b[0mx_k1\u001b[0m\u001b[0;34m[\u001b[0m\u001b[0;36m0\u001b[0m\u001b[0;34m]\u001b[0m\u001b[0;34m\u001b[0m\u001b[0m\n",
      "\u001b[0;31mNameError\u001b[0m: name 'lg' is not defined"
     ]
    }
   ],
   "source": [
    "z_k = z\n",
    "gamma_k = gamma\n",
    "print (H.T.dot(H) + rho*A.T.dot(A)).shape\n",
    "print (H.T.dot(y) + rho*A.T.dot(z_k) - A.T.dot(gamma_k)).shape\n",
    "print A.T.dot(z).shape\n",
    "print A.T.dot(gamma_k).shape\n",
    "x_k1 = lg.cg((H.T.dot(H) + rho*A.T.dot(A)), (H.T.dot(y)+rho*A.T.dot(z)-A.T.dot(gamma)))\n",
    "print x_k1[0]"
   ]
  },
  {
   "cell_type": "markdown",
   "metadata": {},
   "source": [
    "### Conclusion (cette conclusion ne doit pas être la copie de l'introduction)"
   ]
  },
  {
   "cell_type": "code",
   "execution_count": null,
   "metadata": {
    "collapsed": true
   },
   "outputs": [],
   "source": []
  },
  {
   "cell_type": "code",
   "execution_count": null,
   "metadata": {
    "collapsed": true
   },
   "outputs": [],
   "source": []
  }
 ],
 "metadata": {
  "kernelspec": {
   "display_name": "Python 2",
   "language": "python",
   "name": "python2"
  },
  "language_info": {
   "codemirror_mode": {
    "name": "ipython",
    "version": 2
   },
   "file_extension": ".py",
   "mimetype": "text/x-python",
   "name": "python",
   "nbconvert_exporter": "python",
   "pygments_lexer": "ipython2",
   "version": "2.7.13"
  }
 },
 "nbformat": 4,
 "nbformat_minor": 2
}
